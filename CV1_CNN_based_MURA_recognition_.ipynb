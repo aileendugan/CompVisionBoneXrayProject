{
  "nbformat": 4,
  "nbformat_minor": 0,
  "metadata": {
    "colab": {
      "provenance": [],
      "include_colab_link": true
    },
    "kernelspec": {
      "name": "python3",
      "display_name": "Python 3"
    },
    "accelerator": "GPU"
  },
  "cells": [
    {
      "cell_type": "markdown",
      "metadata": {
        "id": "view-in-github",
        "colab_type": "text"
      },
      "source": [
        "<a href=\"https://colab.research.google.com/github/aileendugan/CompVisionBoneXrayProject/blob/main/CV1_CNN_based_MURA_recognition_.ipynb\" target=\"_parent\"><img src=\"https://colab.research.google.com/assets/colab-badge.svg\" alt=\"Open In Colab\"/></a>"
      ]
    },
    {
      "cell_type": "markdown",
      "metadata": {
        "id": "G-c0Tbj1lJNy"
      },
      "source": [
        "# Step 1: Loading the data"
      ]
    },
    {
      "cell_type": "code",
      "metadata": {
        "id": "2OV2HZ1gkk2Y",
        "colab": {
          "base_uri": "https://localhost:8080/",
          "height": 317
        },
        "outputId": "fd29fac5-a875-4f29-b794-5bc53717480d"
      },
      "source": [
        "# Computer Vision I Course (CSE 40535/60535)\n",
        "# University of Notre Dame, Fall 2022\n",
        "# ________________________________________________________________________________\n",
        "# Adam Czajka, February 2022\n",
        "# Based on Keras documentation available at https://keras.io/examples/vision/mnist_convnet/\n",
        "\n",
        "import cv2\n",
        "import tensorflow as tf\n",
        "import matplotlib.pyplot as plt\n",
        "import numpy as np\n",
        "import itertools as it\n",
        "\n",
        "# Load database of handwritten digits (MNIST)\n",
        "(x_train, y_train), (x_test, y_test) = tf.keras.datasets.mnist.load_data()\n",
        "\n",
        "# Let's show one example from the dataset\n",
        "image_index = 23876 # you may select anything from 0 to 59,999 (we have 60,000 training samples)\n",
        "print(y_train[image_index])\n",
        "plt.imshow(x_train[image_index], cmap='Greys')\n",
        "plt.show()"
      ],
      "execution_count": null,
      "outputs": [
        {
          "output_type": "stream",
          "name": "stdout",
          "text": [
            "Downloading data from https://storage.googleapis.com/tensorflow/tf-keras-datasets/mnist.npz\n",
            "11490434/11490434 [==============================] - 0s 0us/step\n",
            "9\n"
          ]
        },
        {
          "output_type": "display_data",
          "data": {
            "text/plain": [
              "<Figure size 432x288 with 1 Axes>"
            ],
            "image/png": "[encoded data removed]"
          },
          "metadata": {
            "needs_background": "light"
          }
        }
      ]
    },
    {
      "cell_type": "code",
      "source": [
        "from google.colab import drive\n",
        "drive.mount('/content/drive')"
      ],
      "metadata": {
        "colab": {
          "base_uri": "https://localhost:8080/"
        },
        "id": "bbs2yNT_umc9",
        "outputId": "c22759ee-4f84-4b01-8490-d05de9c07716"
      },
      "execution_count": 1,
      "outputs": [
        {
          "output_type": "stream",
          "name": "stdout",
          "text": [
            "Mounted at /content/drive\n"
          ]
        }
      ]
    },
    {
      "cell_type": "markdown",
      "metadata": {
        "id": "le1hc7NQlPjS"
      },
      "source": [
        "# Step 2: Reshaping to 28 x 28 tensors and normalizing pixel intensities to the [0,1] range"
      ]
    },
    {
      "cell_type": "code",
      "metadata": {
        "id": "LTuGdVWLmCqB"
      },
      "source": [
        "# Reshaping the array to 4-dims so that it can work with the Keras API\n",
        "x_train = x_train.reshape(x_train.shape[0], 128, 128, 1)\n",
        "x_test = x_test.reshape(x_test.shape[0], 128, 128, 1)\n",
        "input_shape = (28, 28, 1)\n",
        "\n",
        "# Making sure that the values are float so that we can get decimal points after division\n",
        "x_train = x_train.astype('float32')\n",
        "x_test = x_test.astype('float32')\n",
        "\n",
        "# Normalizing the 8-bit grayscale intensities by dividing them by the max intensity value\n",
        "x_train /= 255\n",
        "x_test /= 255"
      ],
      "execution_count": null,
      "outputs": []
    },
    {
      "cell_type": "markdown",
      "metadata": {
        "id": "bXhk-diul_-n"
      },
      "source": [
        "# Step 3: Building the convolutional neural network"
      ]
    },
    {
      "cell_type": "code",
      "metadata": {
        "id": "ptNczoPzhBX-",
        "colab": {
          "base_uri": "https://localhost:8080/"
        },
        "outputId": "8cc4778f-905d-4b7e-e3e4-43011e46b8c0"
      },
      "source": [
        "# Importing the required Keras modules containing model and layers\n",
        "from tensorflow.keras.models import Sequential\n",
        "from tensorflow.keras.layers import Conv2D, Flatten, Dense\n",
        "# *** we need to import implementations of a few extra layers:\n",
        "from tensorflow.keras import optimizers\n",
        "\n",
        "# Creating a Sequential Model and adding the layers\n",
        "model = Sequential()\n",
        "\n",
        "# *** Now we need to add a few layers. We will use model.add() function:\n",
        "model.add(Conv2D(filters=16, kernel_size =(3,3), input_shape = input_shape, activation = 'relu'))\n",
        "model.add(Flatten())\n",
        "model.add(Dense(units=10,activation='softmax'))\n",
        "model.summary()"
      ],
      "execution_count": null,
      "outputs": [
        {
          "output_type": "stream",
          "name": "stdout",
          "text": [
            "Model: \"sequential_1\"\n",
            "_________________________________________________________________\n",
            " Layer (type)                Output Shape              Param #   \n",
            "=================================================================\n",
            " conv2d_1 (Conv2D)           (None, 26, 26, 16)        160       \n",
            "                                                                 \n",
            " flatten (Flatten)           (None, 10816)             0         \n",
            "                                                                 \n",
            " dense (Dense)               (None, 10)                108170    \n",
            "                                                                 \n",
            "=================================================================\n",
            "Total params: 108,330\n",
            "Trainable params: 108,330\n",
            "Non-trainable params: 0\n",
            "_________________________________________________________________\n"
          ]
        }
      ]
    },
    {
      "cell_type": "markdown",
      "metadata": {
        "id": "iEQ2Kvf8mj0Q"
      },
      "source": [
        "# Step 4: Training"
      ]
    },
    {
      "cell_type": "code",
      "metadata": {
        "id": "lnzQ-nabmnCb",
        "colab": {
          "base_uri": "https://localhost:8080/"
        },
        "outputId": "21b838eb-c6a5-4b80-c0f8-0da638f2251b"
      },
      "source": [
        "epochs = 3  # how many times the network will see the ENTIRE training set\n",
        "\n",
        "sgd = optimizers.SGD(learning_rate = 0.1, decay=1e-6, momentum=0.9, nesterov=True)\n",
        "model.compile(optimizer=sgd,\n",
        "              loss='sparse_categorical_crossentropy',\n",
        "              metrics=['accuracy'])\n",
        "\n",
        "print('-TRAINING----------------------------')\n",
        "print('Input shape:', x_train.shape)\n",
        "print('Number of training images: ', x_train.shape[0])\n",
        "\n",
        "model.fit(x=x_train, y=y_train, epochs=epochs)"
      ],
      "execution_count": null,
      "outputs": [
        {
          "output_type": "stream",
          "name": "stdout",
          "text": [
            "-TRAINING----------------------------\n",
            "Input shape: (60000, 28, 28, 1)\n",
            "Number of training images:  60000\n",
            "Epoch 1/3\n",
            "1875/1875 [==============================] - 6s 3ms/step - loss: nan - accuracy: 0.1029\n",
            "Epoch 2/3\n",
            "1875/1875 [==============================] - 5s 3ms/step - loss: nan - accuracy: 0.0987\n",
            "Epoch 3/3\n",
            "1875/1875 [==============================] - 6s 3ms/step - loss: nan - accuracy: 0.0987\n"
          ]
        },
        {
          "output_type": "execute_result",
          "data": {
            "text/plain": [
              "<keras.callbacks.History at 0x7f9ca6631650>"
            ]
          },
          "metadata": {},
          "execution_count": 8
        }
      ]
    },
    {
      "cell_type": "markdown",
      "metadata": {
        "id": "9OISvfiDkZ4G"
      },
      "source": [
        "# Step 5: Let's see what the network learned: evaluate it on test (unseen) data "
      ]
    },
    {
      "cell_type": "code",
      "metadata": {
        "id": "kc4tyAKWm59Q",
        "colab": {
          "base_uri": "https://localhost:8080/",
          "height": 504
        },
        "outputId": "aad38e36-7849-48a6-fe34-a53844512a6a"
      },
      "source": [
        "print('-TESTING-----------------------------')\n",
        "print('Number of test images:', x_test.shape[0])\n",
        "score = model.evaluate(x_test, y_test)\n",
        "print('Test loss:', score[0])\n",
        "print('Test accuracy:', score[1])\n",
        "\n",
        "# Print 10 example test digits with their true and predicted labels\n",
        "fig, axes = plt.subplots(2, 5)\n",
        "fig.tight_layout()\n",
        "\n",
        "image_idx = np.random.randint(1,10000,(2,5))\n",
        "\n",
        "for i, j in it.product(range(2), range(5)):\n",
        "    test_image = x_test[image_idx[i,j]].reshape(1, 28, 28, 1)\n",
        "    test_label = y_test[image_idx[i,j]]\n",
        "    softmax_outputs = model.predict(test_image)\n",
        "    pred_label = softmax_outputs.argmax()\n",
        "\n",
        "    axes[i, j].imshow(test_image.reshape(28, 28),cmap='Greys')\n",
        "    axes[i, j].set_aspect('equal', 'box')\n",
        "    axes[i, j].set_title(\"predicted: {}\".format(test_label,pred_label))\n",
        "\n",
        "plt.show()"
      ],
      "execution_count": null,
      "outputs": [
        {
          "output_type": "stream",
          "name": "stdout",
          "text": [
            "-TESTING-----------------------------\n",
            "Number of test images: 10000\n",
            "313/313 [==============================] - 1s 3ms/step - loss: 0.1109 - accuracy: 0.9712\n",
            "Test loss: 0.11090055108070374\n",
            "Test accuracy: 0.9711999893188477\n",
            "1/1 [==============================] - 0s 90ms/step\n",
            "1/1 [==============================] - 0s 17ms/step\n",
            "1/1 [==============================] - 0s 18ms/step\n",
            "1/1 [==============================] - 0s 17ms/step\n",
            "1/1 [==============================] - 0s 18ms/step\n",
            "1/1 [==============================] - 0s 19ms/step\n",
            "1/1 [==============================] - 0s 20ms/step\n",
            "1/1 [==============================] - 0s 16ms/step\n",
            "1/1 [==============================] - 0s 17ms/step\n",
            "1/1 [==============================] - 0s 19ms/step\n"
          ]
        },
        {
          "output_type": "display_data",
          "data": {
            "text/plain": [
              "<Figure size 432x288 with 10 Axes>"
            ],
            "image/png": "[encoded data removed]"
          },
          "metadata": {
            "needs_background": "light"
          }
        }
      ]
    },
    {
      "cell_type": "markdown",
      "metadata": {
        "id": "nZm16BLY4-Ky"
      },
      "source": [
        "# Optional step 6: visualize learned kernels in the convolutional layer"
      ]
    },
    {
      "cell_type": "code",
      "metadata": {
        "id": "4Q2X81H647hv",
        "colab": {
          "base_uri": "https://localhost:8080/",
          "height": 280
        },
        "outputId": "6cd4a971-2ecf-4b12-b8ae-0df6e10165d2"
      },
      "source": [
        "for layer in model.layers:\n",
        "    if 'conv' in layer.name:\n",
        "        filters, biases = layer.get_weights()\n",
        "\n",
        "        # normalize filter values to 0-1 so we can visualize them\n",
        "        f_min, f_max = filters.min(), filters.max()\n",
        "        filters = (filters - f_min) / (f_max - f_min)\n",
        "\n",
        "fig, axes = plt.subplots(4, 4)\n",
        "fig.tight_layout()\n",
        "  \n",
        "for i, j in it.product(range(4),range(4)):\n",
        "    axes[i, j].imshow(filters[:,:,0,(i+1)*(j+1)-1],cmap='Greys')\n",
        "    axes[i, j].set_aspect('equal', 'box')\n",
        "\n",
        "plt.setp(axes, xticks = [], yticks = [])\n",
        "plt.show()"
      ],
      "execution_count": null,
      "outputs": [
        {
          "output_type": "display_data",
          "data": {
            "text/plain": [
              "<Figure size 432x288 with 16 Axes>"
            ],
            "image/png": "[encoded data removed]"
          },
          "metadata": {}
        }
      ]
    }
  ]
}